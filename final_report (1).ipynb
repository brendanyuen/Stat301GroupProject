{
 "cells": [
  {
   "cell_type": "markdown",
   "id": "094968c9-2cb6-4a15-b4ad-d32b70f8bfd3",
   "metadata": {
    "tags": []
   },
   "source": [
    "#### Preparations "
   ]
  },
  {
   "cell_type": "code",
   "execution_count": 1,
   "id": "0a50115d-f03c-4fd2-be79-1fe11c9cd5ee",
   "metadata": {
    "tags": []
   },
   "outputs": [
    {
     "name": "stderr",
     "output_type": "stream",
     "text": [
      "── \u001b[1mAttaching core tidyverse packages\u001b[22m ──────────────────────── tidyverse 2.0.0 ──\n",
      "\u001b[32m✔\u001b[39m \u001b[34mdplyr    \u001b[39m 1.1.3     \u001b[32m✔\u001b[39m \u001b[34mreadr    \u001b[39m 2.1.4\n",
      "\u001b[32m✔\u001b[39m \u001b[34mforcats  \u001b[39m 1.0.0     \u001b[32m✔\u001b[39m \u001b[34mstringr  \u001b[39m 1.5.0\n",
      "\u001b[32m✔\u001b[39m \u001b[34mggplot2  \u001b[39m 3.4.3     \u001b[32m✔\u001b[39m \u001b[34mtibble   \u001b[39m 3.2.1\n",
      "\u001b[32m✔\u001b[39m \u001b[34mlubridate\u001b[39m 1.9.3     \u001b[32m✔\u001b[39m \u001b[34mtidyr    \u001b[39m 1.3.0\n",
      "\u001b[32m✔\u001b[39m \u001b[34mpurrr    \u001b[39m 1.0.2     \n",
      "── \u001b[1mConflicts\u001b[22m ────────────────────────────────────────── tidyverse_conflicts() ──\n",
      "\u001b[31m✖\u001b[39m \u001b[34mdplyr\u001b[39m::\u001b[32mfilter()\u001b[39m masks \u001b[34mstats\u001b[39m::filter()\n",
      "\u001b[31m✖\u001b[39m \u001b[34mdplyr\u001b[39m::\u001b[32mlag()\u001b[39m    masks \u001b[34mstats\u001b[39m::lag()\n",
      "\u001b[36mℹ\u001b[39m Use the conflicted package (\u001b[3m\u001b[34m<http://conflicted.r-lib.org/>\u001b[39m\u001b[23m) to force all conflicts to become errors\n",
      "── \u001b[1mAttaching packages\u001b[22m ────────────────────────────────────── tidymodels 1.1.1 ──\n",
      "\n",
      "\u001b[32m✔\u001b[39m \u001b[34mbroom       \u001b[39m 1.0.5     \u001b[32m✔\u001b[39m \u001b[34mrsample     \u001b[39m 1.2.0\n",
      "\u001b[32m✔\u001b[39m \u001b[34mdials       \u001b[39m 1.2.0     \u001b[32m✔\u001b[39m \u001b[34mtune        \u001b[39m 1.1.2\n",
      "\u001b[32m✔\u001b[39m \u001b[34minfer       \u001b[39m 1.0.5     \u001b[32m✔\u001b[39m \u001b[34mworkflows   \u001b[39m 1.1.3\n",
      "\u001b[32m✔\u001b[39m \u001b[34mmodeldata   \u001b[39m 1.2.0     \u001b[32m✔\u001b[39m \u001b[34mworkflowsets\u001b[39m 1.0.1\n",
      "\u001b[32m✔\u001b[39m \u001b[34mparsnip     \u001b[39m 1.1.1     \u001b[32m✔\u001b[39m \u001b[34myardstick   \u001b[39m 1.2.0\n",
      "\u001b[32m✔\u001b[39m \u001b[34mrecipes     \u001b[39m 1.0.8     \n",
      "\n",
      "── \u001b[1mConflicts\u001b[22m ───────────────────────────────────────── tidymodels_conflicts() ──\n",
      "\u001b[31m✖\u001b[39m \u001b[34mscales\u001b[39m::\u001b[32mdiscard()\u001b[39m masks \u001b[34mpurrr\u001b[39m::discard()\n",
      "\u001b[31m✖\u001b[39m \u001b[34mdplyr\u001b[39m::\u001b[32mfilter()\u001b[39m   masks \u001b[34mstats\u001b[39m::filter()\n",
      "\u001b[31m✖\u001b[39m \u001b[34mrecipes\u001b[39m::\u001b[32mfixed()\u001b[39m  masks \u001b[34mstringr\u001b[39m::fixed()\n",
      "\u001b[31m✖\u001b[39m \u001b[34mdplyr\u001b[39m::\u001b[32mlag()\u001b[39m      masks \u001b[34mstats\u001b[39m::lag()\n",
      "\u001b[31m✖\u001b[39m \u001b[34myardstick\u001b[39m::\u001b[32mspec()\u001b[39m masks \u001b[34mreadr\u001b[39m::spec()\n",
      "\u001b[31m✖\u001b[39m \u001b[34mrecipes\u001b[39m::\u001b[32mstep()\u001b[39m   masks \u001b[34mstats\u001b[39m::step()\n",
      "\u001b[34m•\u001b[39m Search for functions across packages at \u001b[32mhttps://www.tidymodels.org/find/\u001b[39m\n",
      "\n",
      "\n",
      "Attaching package: ‘gridExtra’\n",
      "\n",
      "\n",
      "The following object is masked from ‘package:dplyr’:\n",
      "\n",
      "    combine\n",
      "\n",
      "\n",
      "\n",
      "Attaching package: ‘cowplot’\n",
      "\n",
      "\n",
      "The following object is masked from ‘package:lubridate’:\n",
      "\n",
      "    stamp\n",
      "\n",
      "\n",
      "Loading required package: Matrix\n",
      "\n",
      "\n",
      "Attaching package: ‘Matrix’\n",
      "\n",
      "\n",
      "The following objects are masked from ‘package:tidyr’:\n",
      "\n",
      "    expand, pack, unpack\n",
      "\n",
      "\n",
      "Loaded glmnet 4.1-8\n",
      "\n",
      "Loading required package: carData\n",
      "\n",
      "\n",
      "Attaching package: ‘car’\n",
      "\n",
      "\n",
      "The following object is masked from ‘package:dplyr’:\n",
      "\n",
      "    recode\n",
      "\n",
      "\n",
      "The following object is masked from ‘package:purrr’:\n",
      "\n",
      "    some\n",
      "\n",
      "\n",
      "\n",
      "Attaching package: ‘faraway’\n",
      "\n",
      "\n",
      "The following objects are masked from ‘package:car’:\n",
      "\n",
      "    logit, vif\n",
      "\n",
      "\n",
      "\n",
      "Attaching package: ‘mltools’\n",
      "\n",
      "\n",
      "The following objects are masked from ‘package:yardstick’:\n",
      "\n",
      "    mcc, rmse\n",
      "\n",
      "\n",
      "The following object is masked from ‘package:tidyr’:\n",
      "\n",
      "    replace_na\n",
      "\n",
      "\n",
      "\u001b[1mRows: \u001b[22m\u001b[34m1338\u001b[39m \u001b[1mColumns: \u001b[22m\u001b[34m7\u001b[39m\n",
      "\u001b[36m──\u001b[39m \u001b[1mColumn specification\u001b[22m \u001b[36m────────────────────────────────────────────────────────\u001b[39m\n",
      "\u001b[1mDelimiter:\u001b[22m \",\"\n",
      "\u001b[31mchr\u001b[39m (3): sex, smoker, region\n",
      "\u001b[32mdbl\u001b[39m (4): age, bmi, children, charges\n",
      "\n",
      "\u001b[36mℹ\u001b[39m Use `spec()` to retrieve the full column specification for this data.\n",
      "\u001b[36mℹ\u001b[39m Specify the column types or set `show_col_types = FALSE` to quiet this message.\n"
     ]
    },
    {
     "data": {
      "text/html": [
       "<table class=\"dataframe\">\n",
       "<caption>A tibble: 6 × 7</caption>\n",
       "<thead>\n",
       "\t<tr><th scope=col>age</th><th scope=col>sex</th><th scope=col>bmi</th><th scope=col>children</th><th scope=col>smoker</th><th scope=col>region</th><th scope=col>charges</th></tr>\n",
       "\t<tr><th scope=col>&lt;dbl&gt;</th><th scope=col>&lt;chr&gt;</th><th scope=col>&lt;dbl&gt;</th><th scope=col>&lt;dbl&gt;</th><th scope=col>&lt;chr&gt;</th><th scope=col>&lt;chr&gt;</th><th scope=col>&lt;dbl&gt;</th></tr>\n",
       "</thead>\n",
       "<tbody>\n",
       "\t<tr><td>19</td><td>female</td><td>27.900</td><td>0</td><td>yes</td><td>southwest</td><td>16884.924</td></tr>\n",
       "\t<tr><td>18</td><td>male  </td><td>33.770</td><td>1</td><td>no </td><td>southeast</td><td> 1725.552</td></tr>\n",
       "\t<tr><td>28</td><td>male  </td><td>33.000</td><td>3</td><td>no </td><td>southeast</td><td> 4449.462</td></tr>\n",
       "\t<tr><td>33</td><td>male  </td><td>22.705</td><td>0</td><td>no </td><td>northwest</td><td>21984.471</td></tr>\n",
       "\t<tr><td>32</td><td>male  </td><td>28.880</td><td>0</td><td>no </td><td>northwest</td><td> 3866.855</td></tr>\n",
       "\t<tr><td>31</td><td>female</td><td>25.740</td><td>0</td><td>no </td><td>southeast</td><td> 3756.622</td></tr>\n",
       "</tbody>\n",
       "</table>\n"
      ],
      "text/latex": [
       "A tibble: 6 × 7\n",
       "\\begin{tabular}{lllllll}\n",
       " age & sex & bmi & children & smoker & region & charges\\\\\n",
       " <dbl> & <chr> & <dbl> & <dbl> & <chr> & <chr> & <dbl>\\\\\n",
       "\\hline\n",
       "\t 19 & female & 27.900 & 0 & yes & southwest & 16884.924\\\\\n",
       "\t 18 & male   & 33.770 & 1 & no  & southeast &  1725.552\\\\\n",
       "\t 28 & male   & 33.000 & 3 & no  & southeast &  4449.462\\\\\n",
       "\t 33 & male   & 22.705 & 0 & no  & northwest & 21984.471\\\\\n",
       "\t 32 & male   & 28.880 & 0 & no  & northwest &  3866.855\\\\\n",
       "\t 31 & female & 25.740 & 0 & no  & southeast &  3756.622\\\\\n",
       "\\end{tabular}\n"
      ],
      "text/markdown": [
       "\n",
       "A tibble: 6 × 7\n",
       "\n",
       "| age &lt;dbl&gt; | sex &lt;chr&gt; | bmi &lt;dbl&gt; | children &lt;dbl&gt; | smoker &lt;chr&gt; | region &lt;chr&gt; | charges &lt;dbl&gt; |\n",
       "|---|---|---|---|---|---|---|\n",
       "| 19 | female | 27.900 | 0 | yes | southwest | 16884.924 |\n",
       "| 18 | male   | 33.770 | 1 | no  | southeast |  1725.552 |\n",
       "| 28 | male   | 33.000 | 3 | no  | southeast |  4449.462 |\n",
       "| 33 | male   | 22.705 | 0 | no  | northwest | 21984.471 |\n",
       "| 32 | male   | 28.880 | 0 | no  | northwest |  3866.855 |\n",
       "| 31 | female | 25.740 | 0 | no  | southeast |  3756.622 |\n",
       "\n"
      ],
      "text/plain": [
       "  age sex    bmi    children smoker region    charges  \n",
       "1 19  female 27.900 0        yes    southwest 16884.924\n",
       "2 18  male   33.770 1        no     southeast  1725.552\n",
       "3 28  male   33.000 3        no     southeast  4449.462\n",
       "4 33  male   22.705 0        no     northwest 21984.471\n",
       "5 32  male   28.880 0        no     northwest  3866.855\n",
       "6 31  female 25.740 0        no     southeast  3756.622"
      ]
     },
     "metadata": {},
     "output_type": "display_data"
    }
   ],
   "source": [
    "# All needed libraries:\n",
    "library(tidyverse)\n",
    "library(tidymodels)\n",
    "library(broom)\n",
    "library(repr)\n",
    "library(digest)\n",
    "library(infer)\n",
    "library(gridExtra)\n",
    "library(cowplot)\n",
    "library(leaps)\n",
    "library(glmnet)\n",
    "library(car)\n",
    "library(faraway)\n",
    "library(mltools)\n",
    "\n",
    "# General Graphs' setting:\n",
    "options(repr.plot.width = 13, repr.plot.height = 9)   \n",
    "\n",
    "# Import online dataset\n",
    "url <- \"https://raw.githubusercontent.com/Jitao-Z/Medical-Cost-Personal-Datasets/main/insurance.csv\"\n",
    "raw_data <- read_csv(url)\n",
    "\n",
    "# First 6 rows of the dataset\n",
    "head(raw_data)"
   ]
  },
  {
   "cell_type": "markdown",
   "id": "1afeb98b-1d68-44fc-a190-4205a417a64f",
   "metadata": {},
   "source": [
    "#### Data cleaning"
   ]
  },
  {
   "cell_type": "code",
   "execution_count": 2,
   "id": "b119d4d3-e3be-48e1-b72d-930a5c801a3b",
   "metadata": {
    "tags": []
   },
   "outputs": [
    {
     "data": {
      "text/html": [
       "<table class=\"dataframe\">\n",
       "<caption>A tibble: 6 × 7</caption>\n",
       "<thead>\n",
       "\t<tr><th scope=col>age</th><th scope=col>sex</th><th scope=col>bmi</th><th scope=col>children</th><th scope=col>smoker</th><th scope=col>region</th><th scope=col>charges</th></tr>\n",
       "\t<tr><th scope=col>&lt;dbl&gt;</th><th scope=col>&lt;fct&gt;</th><th scope=col>&lt;dbl&gt;</th><th scope=col>&lt;dbl&gt;</th><th scope=col>&lt;chr&gt;</th><th scope=col>&lt;fct&gt;</th><th scope=col>&lt;dbl&gt;</th></tr>\n",
       "</thead>\n",
       "<tbody>\n",
       "\t<tr><td>19</td><td>female</td><td>27.900</td><td>0</td><td>yes</td><td>west</td><td>16884.924</td></tr>\n",
       "\t<tr><td>18</td><td>male  </td><td>33.770</td><td>1</td><td>no </td><td>east</td><td> 1725.552</td></tr>\n",
       "\t<tr><td>28</td><td>male  </td><td>33.000</td><td>3</td><td>no </td><td>east</td><td> 4449.462</td></tr>\n",
       "\t<tr><td>33</td><td>male  </td><td>22.705</td><td>0</td><td>no </td><td>west</td><td>21984.471</td></tr>\n",
       "\t<tr><td>32</td><td>male  </td><td>28.880</td><td>0</td><td>no </td><td>west</td><td> 3866.855</td></tr>\n",
       "\t<tr><td>31</td><td>female</td><td>25.740</td><td>0</td><td>no </td><td>east</td><td> 3756.622</td></tr>\n",
       "</tbody>\n",
       "</table>\n"
      ],
      "text/latex": [
       "A tibble: 6 × 7\n",
       "\\begin{tabular}{lllllll}\n",
       " age & sex & bmi & children & smoker & region & charges\\\\\n",
       " <dbl> & <fct> & <dbl> & <dbl> & <chr> & <fct> & <dbl>\\\\\n",
       "\\hline\n",
       "\t 19 & female & 27.900 & 0 & yes & west & 16884.924\\\\\n",
       "\t 18 & male   & 33.770 & 1 & no  & east &  1725.552\\\\\n",
       "\t 28 & male   & 33.000 & 3 & no  & east &  4449.462\\\\\n",
       "\t 33 & male   & 22.705 & 0 & no  & west & 21984.471\\\\\n",
       "\t 32 & male   & 28.880 & 0 & no  & west &  3866.855\\\\\n",
       "\t 31 & female & 25.740 & 0 & no  & east &  3756.622\\\\\n",
       "\\end{tabular}\n"
      ],
      "text/markdown": [
       "\n",
       "A tibble: 6 × 7\n",
       "\n",
       "| age &lt;dbl&gt; | sex &lt;fct&gt; | bmi &lt;dbl&gt; | children &lt;dbl&gt; | smoker &lt;chr&gt; | region &lt;fct&gt; | charges &lt;dbl&gt; |\n",
       "|---|---|---|---|---|---|---|\n",
       "| 19 | female | 27.900 | 0 | yes | west | 16884.924 |\n",
       "| 18 | male   | 33.770 | 1 | no  | east |  1725.552 |\n",
       "| 28 | male   | 33.000 | 3 | no  | east |  4449.462 |\n",
       "| 33 | male   | 22.705 | 0 | no  | west | 21984.471 |\n",
       "| 32 | male   | 28.880 | 0 | no  | west |  3866.855 |\n",
       "| 31 | female | 25.740 | 0 | no  | east |  3756.622 |\n",
       "\n"
      ],
      "text/plain": [
       "  age sex    bmi    children smoker region charges  \n",
       "1 19  female 27.900 0        yes    west   16884.924\n",
       "2 18  male   33.770 1        no     east    1725.552\n",
       "3 28  male   33.000 3        no     east    4449.462\n",
       "4 33  male   22.705 0        no     west   21984.471\n",
       "5 32  male   28.880 0        no     west    3866.855\n",
       "6 31  female 25.740 0        no     east    3756.622"
      ]
     },
     "metadata": {},
     "output_type": "display_data"
    }
   ],
   "source": [
    "medical_cost <- raw_data |>\n",
    "    filter(!is.na(charges)) |>                        # Check and remove missing values from the raw dataset\n",
    "    mutate(region = ifelse(region == \"southwest\" | region == \"northwest\", \"west\", \"east\"))\n",
    "medical_cost$sex <- factor(medical_cost$sex)          # Change the property of sex into factor\n",
    "medical_cost$region <- factor(medical_cost$region)    # Change the property of region into factor\n",
    "\n",
    "head(medical_cost)"
   ]
  },
  {
   "cell_type": "markdown",
   "id": "9d78ddc0-9f25-4997-97dc-fafd59c8ceee",
   "metadata": {},
   "source": [
    "#### Ridge, Full regression, Lasso"
   ]
  },
  {
   "cell_type": "code",
   "execution_count": 3,
   "id": "b75d84f6-7928-4f78-bc29-d6de6dabb6d1",
   "metadata": {
    "tags": []
   },
   "outputs": [],
   "source": [
    "# Set seed to obtain reproducible results\n",
    "set.seed(1234)\n",
    "\n",
    "# Create training and testing sets\n",
    "medical_split <- initial_split(medical_cost, prop = 0.7, strata = charges)\n",
    "medical_training <- training(medical_split)\n",
    "medical_testing <- testing(medical_split)\n",
    "\n",
    "# Change training and testing sets into matrix form required by \"glmnet( )\"\n",
    "medical_matrix_X_train <- model.matrix(charges ~ ., medical_training)[, -1]\n",
    "\n",
    "medical_matrix_Y_train <- as.matrix(medical_training$charges, ncol = 1)\n",
    "\n",
    "medical_matrix_X_test <- model.matrix(charges ~ ., medical_testing)[, -1]\n",
    "\n",
    "medical_matrix_Y_test <- as.matrix(medical_testing$charges, ncol = 1)"
   ]
  },
  {
   "cell_type": "markdown",
   "id": "0cc08aa4-409b-495f-8f01-cc22e1f8731b",
   "metadata": {},
   "source": [
    "- Ridge"
   ]
  },
  {
   "cell_type": "code",
   "execution_count": 4,
   "id": "5243f903-02de-4420-9c8f-7e16c0b9499f",
   "metadata": {
    "tags": []
   },
   "outputs": [
    {
     "data": {
      "text/plain": [
       "\n",
       "Call:  cv.glmnet(x = medical_matrix_X_train, y = medical_matrix_Y_train,      alpha = 0) \n",
       "\n",
       "Measure: Mean-Squared Error \n",
       "\n",
       "    Lambda Index  Measure      SE Nonzero\n",
       "min  970.5   100 38377820 2738198       6\n",
       "1se 2460.7    90 40934538 3176953       6"
      ]
     },
     "metadata": {},
     "output_type": "display_data"
    }
   ],
   "source": [
    "# Provide different levels of lambda on the model to obtain their respective MSE\n",
    "medical_cv_lambda_ridge <- cv.glmnet(\n",
    "    x = medical_matrix_X_train, y = medical_matrix_Y_train,\n",
    "    alpha = 0)               # alpha = 0: Ridge penalty\n",
    "                             # Here, we do not explicitly set up a range of values for lambda; therefore, the function will use its defalut argument of lambda for us\n",
    "medical_cv_lambda_ridge"
   ]
  },
  {
   "cell_type": "code",
   "execution_count": 5,
   "id": "fd88cb05-f7d2-4fbc-a259-f9056acc95bd",
   "metadata": {
    "tags": []
   },
   "outputs": [
    {
     "data": {
      "text/html": [
       "970.548577715636"
      ],
      "text/latex": [
       "970.548577715636"
      ],
      "text/markdown": [
       "970.548577715636"
      ],
      "text/plain": [
       "[1] 970.5486"
      ]
     },
     "metadata": {},
     "output_type": "display_data"
    }
   ],
   "source": [
    "# Obtain the lambda that provides the smallest MSE\n",
    "medical_lambda_min_MSE_ridge <- medical_cv_lambda_ridge$lambda.min\n",
    "medical_lambda_min_MSE_ridge"
   ]
  },
  {
   "cell_type": "code",
   "execution_count": 6,
   "id": "31001002-8f62-474d-aac8-a0f21d583450",
   "metadata": {
    "tags": []
   },
   "outputs": [
    {
     "data": {
      "text/plain": [
       "7 x 1 sparse Matrix of class \"dgCMatrix\"\n",
       "                     s1\n",
       "(Intercept) -8932.33175\n",
       "age           225.86735\n",
       "sexmale      -108.60677\n",
       "bmi           270.71052\n",
       "children      515.48543\n",
       "smokeryes   22480.77443\n",
       "regionwest     18.81022"
      ]
     },
     "metadata": {},
     "output_type": "display_data"
    }
   ],
   "source": [
    "# Obtain the estimated coefficients of our regularized model by selecting the lambda which provides the smallest MSE\n",
    "medical_ridge_min_coef <- coef(medical_cv_lambda_ridge, s = \"lambda.min\")    \n",
    "medical_ridge_min_coef"
   ]
  },
  {
   "cell_type": "code",
   "execution_count": 7,
   "id": "04abb606-ed45-44d0-90b2-2c0ec2287c85",
   "metadata": {
    "tags": []
   },
   "outputs": [
    {
     "data": {
      "text/html": [
       "<table class=\"dataframe\">\n",
       "<caption>A matrix: 6 × 1 of type dbl</caption>\n",
       "<thead>\n",
       "\t<tr><th></th><th scope=col>lambda.min</th></tr>\n",
       "</thead>\n",
       "<tbody>\n",
       "\t<tr><th scope=row>1</th><td>25411.556</td></tr>\n",
       "\t<tr><th scope=row>2</th><td> 4682.054</td></tr>\n",
       "\t<tr><th scope=row>3</th><td> 7763.251</td></tr>\n",
       "\t<tr><th scope=row>4</th><td> 6023.747</td></tr>\n",
       "\t<tr><th scope=row>5</th><td> 3703.775</td></tr>\n",
       "\t<tr><th scope=row>6</th><td>34669.198</td></tr>\n",
       "</tbody>\n",
       "</table>\n"
      ],
      "text/latex": [
       "A matrix: 6 × 1 of type dbl\n",
       "\\begin{tabular}{r|l}\n",
       "  & lambda.min\\\\\n",
       "\\hline\n",
       "\t1 & 25411.556\\\\\n",
       "\t2 &  4682.054\\\\\n",
       "\t3 &  7763.251\\\\\n",
       "\t4 &  6023.747\\\\\n",
       "\t5 &  3703.775\\\\\n",
       "\t6 & 34669.198\\\\\n",
       "\\end{tabular}\n"
      ],
      "text/markdown": [
       "\n",
       "A matrix: 6 × 1 of type dbl\n",
       "\n",
       "| <!--/--> | lambda.min |\n",
       "|---|---|\n",
       "| 1 | 25411.556 |\n",
       "| 2 |  4682.054 |\n",
       "| 3 |  7763.251 |\n",
       "| 4 |  6023.747 |\n",
       "| 5 |  3703.775 |\n",
       "| 6 | 34669.198 |\n",
       "\n"
      ],
      "text/plain": [
       "  lambda.min\n",
       "1 25411.556 \n",
       "2  4682.054 \n",
       "3  7763.251 \n",
       "4  6023.747 \n",
       "5  3703.775 \n",
       "6 34669.198 "
      ]
     },
     "metadata": {},
     "output_type": "display_data"
    }
   ],
   "source": [
    "# Apply our regularized model on our testing set to predict the corresponding response variable, charges\n",
    "medical_test_pred_ridge_min <- predict(medical_cv_lambda_ridge, newx = medical_matrix_X_test, s = \"lambda.min\")\n",
    "head(medical_test_pred_ridge_min)"
   ]
  },
  {
   "cell_type": "code",
   "execution_count": 8,
   "id": "0bb36aaf-28bd-4ea2-826c-f45368fa1ab2",
   "metadata": {
    "tags": []
   },
   "outputs": [
    {
     "data": {
      "text/html": [
       "<table class=\"dataframe\">\n",
       "<caption>A tibble: 1 × 2</caption>\n",
       "<thead>\n",
       "\t<tr><th scope=col>Model</th><th scope=col>RMSE</th></tr>\n",
       "\t<tr><th scope=col>&lt;chr&gt;</th><th scope=col>&lt;dbl&gt;</th></tr>\n",
       "</thead>\n",
       "<tbody>\n",
       "\t<tr><td>Ridge Regression with minimum MSE</td><td>6040.751</td></tr>\n",
       "</tbody>\n",
       "</table>\n"
      ],
      "text/latex": [
       "A tibble: 1 × 2\n",
       "\\begin{tabular}{ll}\n",
       " Model & RMSE\\\\\n",
       " <chr> & <dbl>\\\\\n",
       "\\hline\n",
       "\t Ridge Regression with minimum MSE & 6040.751\\\\\n",
       "\\end{tabular}\n"
      ],
      "text/markdown": [
       "\n",
       "A tibble: 1 × 2\n",
       "\n",
       "| Model &lt;chr&gt; | RMSE &lt;dbl&gt; |\n",
       "|---|---|\n",
       "| Ridge Regression with minimum MSE | 6040.751 |\n",
       "\n"
      ],
      "text/plain": [
       "  Model                             RMSE    \n",
       "1 Ridge Regression with minimum MSE 6040.751"
      ]
     },
     "metadata": {},
     "output_type": "display_data"
    }
   ],
   "source": [
    "# Calculate the RMSE and present our final result in a table \n",
    "medical_RMSE <- tibble(\n",
    "    Model = \"Ridge Regression with minimum MSE\",\n",
    "    RMSE = rmse(preds = medical_test_pred_ridge_min, actuals = medical_matrix_Y_test))\n",
    "medical_RMSE"
   ]
  },
  {
   "cell_type": "markdown",
   "id": "e61c79d5-235e-4f15-8e44-68a85a441128",
   "metadata": {},
   "source": [
    "- Lasso"
   ]
  },
  {
   "cell_type": "code",
   "execution_count": 9,
   "id": "edbf70aa-867c-4ab6-9cdb-cb1da07de573",
   "metadata": {
    "tags": []
   },
   "outputs": [
    {
     "data": {
      "text/plain": [
       "\n",
       "Call:  cv.glmnet(x = medical_matrix_X_train, y = medical_matrix_Y_train,      alpha = 1) \n",
       "\n",
       "Measure: Mean-Squared Error \n",
       "\n",
       "    Lambda Index  Measure      SE Nonzero\n",
       "min  111.6    49 37869430 2080470       5\n",
       "1se  787.2    28 39847674 2376031       3"
      ]
     },
     "metadata": {},
     "output_type": "display_data"
    }
   ],
   "source": [
    "# Provide different levels of lambda on the model to obtain their respective MSE\n",
    "medical_cv_lambda_LASSO <- cv.glmnet(\n",
    "    x = medical_matrix_X_train, y = medical_matrix_Y_train,\n",
    "    alpha = 1)               # alpha = 1: Lasso penalty\n",
    "                             # Here, we do not explicitly set up a range of values for lambda; therefore, the function will use its defalut argument of lambda for us\n",
    "medical_cv_lambda_LASSO"
   ]
  },
  {
   "cell_type": "code",
   "execution_count": 10,
   "id": "5b8a1663-b2b0-41a6-96a5-e9c44318d295",
   "metadata": {
    "tags": []
   },
   "outputs": [
    {
     "data": {
      "text/html": [
       "111.589501660187"
      ],
      "text/latex": [
       "111.589501660187"
      ],
      "text/markdown": [
       "111.589501660187"
      ],
      "text/plain": [
       "[1] 111.5895"
      ]
     },
     "metadata": {},
     "output_type": "display_data"
    }
   ],
   "source": [
    "# Obtain the lambda that provides the smallest MSE\n",
    "medical_lambda_min_MSE_LASSO <- medical_cv_lambda_LASSO$lambda.min\n",
    "medical_lambda_min_MSE_LASSO"
   ]
  },
  {
   "cell_type": "code",
   "execution_count": 11,
   "id": "27362e67-228c-4383-863f-06cf689281ac",
   "metadata": {
    "tags": []
   },
   "outputs": [
    {
     "data": {
      "text/plain": [
       "7 x 1 sparse Matrix of class \"dgCMatrix\"\n",
       "                      s1\n",
       "(Intercept) -9637.237289\n",
       "age           236.560139\n",
       "sexmale        -9.198455\n",
       "bmi           270.862338\n",
       "children      460.328206\n",
       "smokeryes   23984.833691\n",
       "regionwest      .       "
      ]
     },
     "metadata": {},
     "output_type": "display_data"
    }
   ],
   "source": [
    "# Obtain the estimated coefficients of our regularized model by selecting the lambda which provides the smallest MSE\n",
    "medical_LASSO_min_coef <- coef(medical_cv_lambda_LASSO, s = \"lambda.min\")    \n",
    "medical_LASSO_min_coef"
   ]
  },
  {
   "cell_type": "code",
   "execution_count": 12,
   "id": "952d068f-6b37-4dbb-a005-613f5365caf8",
   "metadata": {
    "tags": []
   },
   "outputs": [
    {
     "data": {
      "text/html": [
       "<table class=\"dataframe\">\n",
       "<caption>A matrix: 6 × 1 of type dbl</caption>\n",
       "<thead>\n",
       "\t<tr><th></th><th scope=col>lambda.min</th></tr>\n",
       "</thead>\n",
       "<tbody>\n",
       "\t<tr><th scope=row>1</th><td>26399.298</td></tr>\n",
       "\t<tr><th scope=row>2</th><td> 4218.996</td></tr>\n",
       "\t<tr><th scope=row>3</th><td> 7296.690</td></tr>\n",
       "\t<tr><th scope=row>4</th><td> 5745.993</td></tr>\n",
       "\t<tr><th scope=row>5</th><td> 3369.578</td></tr>\n",
       "\t<tr><th scope=row>6</th><td>36135.296</td></tr>\n",
       "</tbody>\n",
       "</table>\n"
      ],
      "text/latex": [
       "A matrix: 6 × 1 of type dbl\n",
       "\\begin{tabular}{r|l}\n",
       "  & lambda.min\\\\\n",
       "\\hline\n",
       "\t1 & 26399.298\\\\\n",
       "\t2 &  4218.996\\\\\n",
       "\t3 &  7296.690\\\\\n",
       "\t4 &  5745.993\\\\\n",
       "\t5 &  3369.578\\\\\n",
       "\t6 & 36135.296\\\\\n",
       "\\end{tabular}\n"
      ],
      "text/markdown": [
       "\n",
       "A matrix: 6 × 1 of type dbl\n",
       "\n",
       "| <!--/--> | lambda.min |\n",
       "|---|---|\n",
       "| 1 | 26399.298 |\n",
       "| 2 |  4218.996 |\n",
       "| 3 |  7296.690 |\n",
       "| 4 |  5745.993 |\n",
       "| 5 |  3369.578 |\n",
       "| 6 | 36135.296 |\n",
       "\n"
      ],
      "text/plain": [
       "  lambda.min\n",
       "1 26399.298 \n",
       "2  4218.996 \n",
       "3  7296.690 \n",
       "4  5745.993 \n",
       "5  3369.578 \n",
       "6 36135.296 "
      ]
     },
     "metadata": {},
     "output_type": "display_data"
    }
   ],
   "source": [
    "# Apply our regularized model on our testing set to predict the corresponding response variable, charges\n",
    "medical_test_pred_LASSO_min <- predict(medical_cv_lambda_LASSO, newx = medical_matrix_X_test, s = \"lambda.min\")\n",
    "head(medical_test_pred_LASSO_min)"
   ]
  },
  {
   "cell_type": "code",
   "execution_count": 13,
   "id": "2cdefc8a-d965-4bfa-9c89-2dda69634750",
   "metadata": {
    "tags": []
   },
   "outputs": [
    {
     "data": {
      "text/html": [
       "<table class=\"dataframe\">\n",
       "<caption>A tibble: 2 × 2</caption>\n",
       "<thead>\n",
       "\t<tr><th scope=col>Model</th><th scope=col>RMSE</th></tr>\n",
       "\t<tr><th scope=col>&lt;chr&gt;</th><th scope=col>&lt;dbl&gt;</th></tr>\n",
       "</thead>\n",
       "<tbody>\n",
       "\t<tr><td>Ridge Regression with minimum MSE</td><td>6040.751</td></tr>\n",
       "\t<tr><td>Lasso Regression with minimum MSE</td><td>6035.074</td></tr>\n",
       "</tbody>\n",
       "</table>\n"
      ],
      "text/latex": [
       "A tibble: 2 × 2\n",
       "\\begin{tabular}{ll}\n",
       " Model & RMSE\\\\\n",
       " <chr> & <dbl>\\\\\n",
       "\\hline\n",
       "\t Ridge Regression with minimum MSE & 6040.751\\\\\n",
       "\t Lasso Regression with minimum MSE & 6035.074\\\\\n",
       "\\end{tabular}\n"
      ],
      "text/markdown": [
       "\n",
       "A tibble: 2 × 2\n",
       "\n",
       "| Model &lt;chr&gt; | RMSE &lt;dbl&gt; |\n",
       "|---|---|\n",
       "| Ridge Regression with minimum MSE | 6040.751 |\n",
       "| Lasso Regression with minimum MSE | 6035.074 |\n",
       "\n"
      ],
      "text/plain": [
       "  Model                             RMSE    \n",
       "1 Ridge Regression with minimum MSE 6040.751\n",
       "2 Lasso Regression with minimum MSE 6035.074"
      ]
     },
     "metadata": {},
     "output_type": "display_data"
    }
   ],
   "source": [
    "# Calculate the RMSE and present our final result in a table \n",
    "medical_RMSE <- medical_RMSE |> add_row(\n",
    "    Model = \"Lasso Regression with minimum MSE\",\n",
    "    RMSE = rmse(preds = medical_test_pred_LASSO_min, actuals = medical_matrix_Y_test))\n",
    "medical_RMSE"
   ]
  },
  {
   "cell_type": "markdown",
   "id": "9460e915-4102-4b9f-b7ce-3cc7ec901fa6",
   "metadata": {},
   "source": [
    "- Full regression"
   ]
  },
  {
   "cell_type": "code",
   "execution_count": 14,
   "id": "82d8969c-8dc9-4cd9-9bbb-464c61c86e23",
   "metadata": {
    "tags": []
   },
   "outputs": [],
   "source": [
    "# We can also fit a full linear regression model on our training set\n",
    "medical_full_OLS <- lm(charges ~ ., data = medical_training)"
   ]
  },
  {
   "cell_type": "code",
   "execution_count": 15,
   "id": "55870df1-f624-474b-b46b-6999ccfd1fdb",
   "metadata": {
    "tags": []
   },
   "outputs": [
    {
     "data": {
      "text/html": [
       "<table class=\"dataframe\">\n",
       "<caption>A data.frame: 7 × 3</caption>\n",
       "<thead>\n",
       "\t<tr><th></th><th scope=col>Full_OLS</th><th scope=col>Ridge_min</th><th scope=col>Lasso_min</th></tr>\n",
       "\t<tr><th></th><th scope=col>&lt;dbl&gt;</th><th scope=col>&lt;dbl&gt;</th><th scope=col>&lt;dbl&gt;</th></tr>\n",
       "</thead>\n",
       "<tbody>\n",
       "\t<tr><th scope=row>(Intercept)</th><td>-10557.9</td><td>-8932.3</td><td>-9637.2</td></tr>\n",
       "\t<tr><th scope=row>age</th><td>   243.4</td><td>  225.9</td><td>  236.6</td></tr>\n",
       "\t<tr><th scope=row>sexmale</th><td>  -268.8</td><td> -108.6</td><td>   -9.2</td></tr>\n",
       "\t<tr><th scope=row>bmi</th><td>   289.0</td><td>  270.7</td><td>  270.9</td></tr>\n",
       "\t<tr><th scope=row>children</th><td>   548.5</td><td>  515.5</td><td>  460.3</td></tr>\n",
       "\t<tr><th scope=row>smokeryes</th><td> 24307.2</td><td>22480.8</td><td>23984.8</td></tr>\n",
       "\t<tr><th scope=row>regionwest</th><td>   129.8</td><td>   18.8</td><td>    0.0</td></tr>\n",
       "</tbody>\n",
       "</table>\n"
      ],
      "text/latex": [
       "A data.frame: 7 × 3\n",
       "\\begin{tabular}{r|lll}\n",
       "  & Full\\_OLS & Ridge\\_min & Lasso\\_min\\\\\n",
       "  & <dbl> & <dbl> & <dbl>\\\\\n",
       "\\hline\n",
       "\t(Intercept) & -10557.9 & -8932.3 & -9637.2\\\\\n",
       "\tage &    243.4 &   225.9 &   236.6\\\\\n",
       "\tsexmale &   -268.8 &  -108.6 &    -9.2\\\\\n",
       "\tbmi &    289.0 &   270.7 &   270.9\\\\\n",
       "\tchildren &    548.5 &   515.5 &   460.3\\\\\n",
       "\tsmokeryes &  24307.2 & 22480.8 & 23984.8\\\\\n",
       "\tregionwest &    129.8 &    18.8 &     0.0\\\\\n",
       "\\end{tabular}\n"
      ],
      "text/markdown": [
       "\n",
       "A data.frame: 7 × 3\n",
       "\n",
       "| <!--/--> | Full_OLS &lt;dbl&gt; | Ridge_min &lt;dbl&gt; | Lasso_min &lt;dbl&gt; |\n",
       "|---|---|---|---|\n",
       "| (Intercept) | -10557.9 | -8932.3 | -9637.2 |\n",
       "| age |    243.4 |   225.9 |   236.6 |\n",
       "| sexmale |   -268.8 |  -108.6 |    -9.2 |\n",
       "| bmi |    289.0 |   270.7 |   270.9 |\n",
       "| children |    548.5 |   515.5 |   460.3 |\n",
       "| smokeryes |  24307.2 | 22480.8 | 23984.8 |\n",
       "| regionwest |    129.8 |    18.8 |     0.0 |\n",
       "\n"
      ],
      "text/plain": [
       "            Full_OLS Ridge_min Lasso_min\n",
       "(Intercept) -10557.9 -8932.3   -9637.2  \n",
       "age            243.4   225.9     236.6  \n",
       "sexmale       -268.8  -108.6      -9.2  \n",
       "bmi            289.0   270.7     270.9  \n",
       "children       548.5   515.5     460.3  \n",
       "smokeryes    24307.2 22480.8   23984.8  \n",
       "regionwest     129.8    18.8       0.0  "
      ]
     },
     "metadata": {},
     "output_type": "display_data"
    }
   ],
   "source": [
    "# At this point, we can compare the estimated coefficients of all of our three obtained models\n",
    "medical_reg_coef <- round(cbind(\n",
    "    Full_OLS = coef(medical_full_OLS),\n",
    "    Ridge_min = as.vector(medical_ridge_min_coef), \n",
    "    Lasso_min = as.vector(medical_LASSO_min_coef)), 1) |> as.data.frame()\n",
    "medical_reg_coef"
   ]
  },
  {
   "cell_type": "code",
   "execution_count": 16,
   "id": "9aa0d5ad-479b-49b1-87bd-62e38e4598f7",
   "metadata": {
    "tags": []
   },
   "outputs": [],
   "source": [
    "# Apply our full linear regression model on our testing set to predict the corresponding response variable, charges\n",
    "medical_test_full_OLS <- predict(medical_full_OLS, medical_testing)"
   ]
  },
  {
   "cell_type": "code",
   "execution_count": 17,
   "id": "ef32631c-43b2-444a-bd58-696e2414808f",
   "metadata": {
    "tags": []
   },
   "outputs": [
    {
     "data": {
      "text/html": [
       "<table class=\"dataframe\">\n",
       "<caption>A tibble: 3 × 2</caption>\n",
       "<thead>\n",
       "\t<tr><th scope=col>Model</th><th scope=col>RMSE</th></tr>\n",
       "\t<tr><th scope=col>&lt;chr&gt;</th><th scope=col>&lt;dbl&gt;</th></tr>\n",
       "</thead>\n",
       "<tbody>\n",
       "\t<tr><td>Ridge Regression with minimum MSE</td><td>6040.751</td></tr>\n",
       "\t<tr><td>Lasso Regression with minimum MSE</td><td>6035.074</td></tr>\n",
       "\t<tr><td>OLS Full Regression              </td><td>6031.042</td></tr>\n",
       "</tbody>\n",
       "</table>\n"
      ],
      "text/latex": [
       "A tibble: 3 × 2\n",
       "\\begin{tabular}{ll}\n",
       " Model & RMSE\\\\\n",
       " <chr> & <dbl>\\\\\n",
       "\\hline\n",
       "\t Ridge Regression with minimum MSE & 6040.751\\\\\n",
       "\t Lasso Regression with minimum MSE & 6035.074\\\\\n",
       "\t OLS Full Regression               & 6031.042\\\\\n",
       "\\end{tabular}\n"
      ],
      "text/markdown": [
       "\n",
       "A tibble: 3 × 2\n",
       "\n",
       "| Model &lt;chr&gt; | RMSE &lt;dbl&gt; |\n",
       "|---|---|\n",
       "| Ridge Regression with minimum MSE | 6040.751 |\n",
       "| Lasso Regression with minimum MSE | 6035.074 |\n",
       "| OLS Full Regression               | 6031.042 |\n",
       "\n"
      ],
      "text/plain": [
       "  Model                             RMSE    \n",
       "1 Ridge Regression with minimum MSE 6040.751\n",
       "2 Lasso Regression with minimum MSE 6035.074\n",
       "3 OLS Full Regression               6031.042"
      ]
     },
     "metadata": {},
     "output_type": "display_data"
    }
   ],
   "source": [
    "# Calculate the RMSE of the full linear regression model and add it to our previous result table\n",
    "medical_RMSE <- medical_RMSE |>\n",
    "    add_row(Model = \"OLS Full Regression\",\n",
    "            RMSE = rmse(preds = medical_test_full_OLS, actuals = medical_testing$charges))\n",
    "medical_RMSE"
   ]
  },
  {
   "cell_type": "code",
   "execution_count": null,
   "id": "e4940332-7cb6-424d-8bfd-502cb9077d82",
   "metadata": {},
   "outputs": [],
   "source": []
  }
 ],
 "metadata": {
  "kernelspec": {
   "display_name": "R",
   "language": "R",
   "name": "ir"
  },
  "language_info": {
   "codemirror_mode": "r",
   "file_extension": ".r",
   "mimetype": "text/x-r-source",
   "name": "R",
   "pygments_lexer": "r",
   "version": "4.2.3"
  }
 },
 "nbformat": 4,
 "nbformat_minor": 5
}
